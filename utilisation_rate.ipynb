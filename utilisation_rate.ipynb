{
 "cells": [
  {
   "cell_type": "markdown",
   "id": "443283fa-3326-4173-8a9b-2ed47f4da86e",
   "metadata": {},
   "source": [
    "# What does the utilisation rate U tell us about the time that the server is busy?"
   ]
  },
  {
   "cell_type": "markdown",
   "id": "f9803635-d292-4cf8-869c-c52165719995",
   "metadata": {},
   "source": [
    "In this document I am trying to find out what does the utilisation rate U tell us about the time that the server is busy? Our hypothesis is that utilisation rate is on average exactly the proportion of time that the server is busy. Let's test it out on the example of M/M/1 queue."
   ]
  },
  {
   "cell_type": "code",
   "execution_count": 1,
   "id": "7e073712-9050-4bac-99c2-4eb7fea2f307",
   "metadata": {},
   "outputs": [],
   "source": [
    "import numpy as np\n",
    "from numpy import random"
   ]
  },
  {
   "cell_type": "code",
   "execution_count": 29,
   "id": "263c8196-fbe5-45a5-b6ef-87997a1b9acf",
   "metadata": {},
   "outputs": [],
   "source": [
    "def utilisation_tuple(utilisation: float):\n",
    "    \"\"\"Returns the proportion of time that the server is busy for M/M/1 and M/D/1 queue with specified utilisation.\n",
    "    \n",
    "    Parameters\n",
    "    ----------\n",
    "    utilisation: float\n",
    "        Number between 0 and 1 that represents utilisation of designed\n",
    "        M/M/1 and M/D/1 queue.\n",
    "        \n",
    "    Returns\n",
    "    --------\n",
    "    float\n",
    "        Number that represents the proportion of time that the server was busy.\n",
    "    \"\"\"\n",
    "    #first we create some arrival times\n",
    "    arrivals = random.exponential(scale=2/utilisation, size=500000)\n",
    "    for i in range(len(arrivals)):\n",
    "        if i != 0:\n",
    "            arrivals[i] = arrivals[i-1] + arrivals[i]\n",
    "    #and some serving times\n",
    "    servings = random.exponential(scale=2, size=500000)\n",
    "\n",
    "    time = 0\n",
    "    busy1 = 0\n",
    "    idle1 = 0\n",
    "    busy2 = 0\n",
    "    idle2 = 0\n",
    "    ar_ind = 0\n",
    "    ser_ind = 0\n",
    "    queue1 = []\n",
    "    queue2 = []\n",
    "    ser1 = 0\n",
    "    ser2 = 0\n",
    "    for i in range(10000000):\n",
    "        time += 0.01\n",
    "        if arrivals[ar_ind] < time:\n",
    "            queue1.append(arrivals[ar_ind])\n",
    "            queue2.append(arrivals[ar_ind])\n",
    "            ar_ind += 1\n",
    "        if (len(queue1) != 0) and (ser1 > servings[ser_ind]):\n",
    "            ser1 = 0\n",
    "            queue1 = queue1[1:]\n",
    "            ser_ind += 1\n",
    "            idle1 += 1\n",
    "        elif ser1 > servings[ser_ind]:\n",
    "            idle1 += 1\n",
    "            ser1 += 0.01\n",
    "        else:\n",
    "            busy1 += 1\n",
    "            ser1 += 0.01\n",
    "            \n",
    "        if (len(queue2) != 0) and (ser2 > 2):\n",
    "            ser2 = 0\n",
    "            queue2 = queue2[1:]\n",
    "            idle2 += 1\n",
    "        elif ser2 > 2:\n",
    "            idle2 += 1\n",
    "            ser2 += 0.01\n",
    "        else:\n",
    "            busy2 += 1\n",
    "            ser2 += 0.01\n",
    "        \n",
    "    U1 = busy1 / (idle1 + busy1)\n",
    "    U2 = busy2 / (idle2 + busy2)\n",
    "    \n",
    "    return (U1,U2)\n",
    "    "
   ]
  },
  {
   "cell_type": "code",
   "execution_count": 31,
   "id": "e62f97da-24b8-4be7-becf-1cec27e1b1f5",
   "metadata": {},
   "outputs": [
    {
     "data": {
      "text/plain": [
       "(0.8098858, 0.8021681)"
      ]
     },
     "execution_count": 31,
     "metadata": {},
     "output_type": "execute_result"
    }
   ],
   "source": [
    "utilisation_tuple(0.8)"
   ]
  },
  {
   "cell_type": "code",
   "execution_count": null,
   "id": "67119be3-97af-4fe8-b7d8-a66f404ce08b",
   "metadata": {},
   "outputs": [],
   "source": []
  }
 ],
 "metadata": {
  "kernelspec": {
   "display_name": "Python 3 (ipykernel)",
   "language": "python",
   "name": "python3"
  },
  "language_info": {
   "codemirror_mode": {
    "name": "ipython",
    "version": 3
   },
   "file_extension": ".py",
   "mimetype": "text/x-python",
   "name": "python",
   "nbconvert_exporter": "python",
   "pygments_lexer": "ipython3",
   "version": "3.10.8"
  }
 },
 "nbformat": 4,
 "nbformat_minor": 5
}
